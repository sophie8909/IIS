{
 "cells": [
  {
   "cell_type": "code",
   "execution_count": null,
   "metadata": {},
   "outputs": [],
   "source": [
    "import cv2\n",
    "import opencv_jupyter_ui as jcv2\n",
    "from feat import Detector\n",
    "from IPython.display import Image\n",
    "\n",
    "\n",
    "from feat.utils import FEAT_EMOTION_COLUMNS"
   ]
  },
  {
   "cell_type": "code",
   "execution_count": null,
   "metadata": {},
   "outputs": [],
   "source": [
    "detector = Detector(device=\"cuda\")"
   ]
  },
  {
   "cell_type": "code",
   "execution_count": null,
   "metadata": {},
   "outputs": [],
   "source": [
    "import os\n",
    "\n",
    "# Construct the path to the image folder\n",
    "ori_folder_path = os.path.join( '..', 'dataset', 'images')\n",
    "\n",
    "\n",
    "# load all the images in the folder\n",
    "images_filename = os.listdir(ori_folder_path)\n",
    "\n",
    "# AU codes\n",
    "predicted_aus = [\"AU1\",\"AU2\",\"AU4\",\"AU5\",\"AU6\",\"AU7\",\"AU9\",\"AU10\",\"AU11\",\"AU12\",\"AU14\",\"AU15\",\n",
    "                    \"AU17\",\"AU20\",\"AU23\",\"AU24\",\"AU25\",\"AU26\",\"AU28\", \"AU43\"]"
   ]
  },
  {
   "cell_type": "code",
   "execution_count": null,
   "metadata": {},
   "outputs": [],
   "source": [
    "import pandas as pd\n",
    "df = pd.DataFrame(columns=['file', 'face']+predicted_aus)"
   ]
  },
  {
   "cell_type": "code",
   "execution_count": null,
   "metadata": {},
   "outputs": [],
   "source": [
    "# loop through all the images\n",
    "for image_filename in images_filename:\n",
    "    frame = cv2.imread(ori_folder_path + \"/\" + image_filename)\n",
    "    faces = detector.detect_faces(frame)\n",
    "    landmarks = detector.detect_landmarks(frame, faces)\n",
    "    emotions = detector.detect_emotions(frame, faces, landmarks)\n",
    "    AUs = detector.detect_aus(frame, landmarks)\n",
    "    faces = faces[0]\n",
    "    landmarks = landmarks[0]\n",
    "    emotions = emotions[0]\n",
    "    AUs = AUs[0]\n",
    "\n",
    "    strongest_emotion = emotions.argmax(axis=1)\n",
    "\n",
    "    # draw rectangles around the faces\n",
    "    for (face, top_emo) in zip(faces, strongest_emotion):\n",
    "        (x0, y0, x1, y1, p) = face\n",
    "        cv2.rectangle(frame, (int(x0), int(y0)), (int(x1), int(y1)), (255, 0, 0), 3)\n",
    "        cv2.putText(frame, FEAT_EMOTION_COLUMNS[top_emo], (int(x0), int(y0 - 10)), cv2.FONT_HERSHEY_PLAIN, 1.5, (255, 0, 0), 2)\n",
    "    \n",
    "    # save each AUs to the dataframe\n",
    "    for i in range(len(faces)):\n",
    "        # remove .jpg from the image name\n",
    "        filename = image_filename[:-4]\n",
    "        row = [filename, i]\n",
    "        row.extend(AUs[i])\n",
    "        print(row)\n",
    "        df.loc[len(df)] = row\n",
    "\n",
    "    \n",
    "    \n",
    "    results_file_path = os.path.join('..', 'processed', 'images', image_filename)\n",
    "    cv2.imwrite(results_file_path, frame)\n",
    "# save the results to a csv file\n",
    "results_file_path = os.path.join('..', 'processed', 'aus.csv')\n",
    "df.to_csv(results_file_path, index=False)"
   ]
  },
  {
   "cell_type": "code",
   "execution_count": null,
   "metadata": {},
   "outputs": [],
   "source": [
    "# accoring to dataset/annotations.csv, separate the images into positive and negative\n",
    "\n",
    "# load the annotations\n",
    "annotations = pd.read_csv(os.path.join('..', 'dataset', 'annotations.csv'))\n",
    "positives = df[df['file'].isin(annotations[annotations['valence'] == 'positive']['file'])]\n",
    "negatives = df[df['file'].isin(annotations[annotations['valence'] == 'negative']['file'])]\n",
    "\n",
    "# For each AU, calculate the absolute difference between the positive mean and the negative mean\n",
    "diffs = {}\n",
    "for au in predicted_aus:\n",
    "    pos_mean = positives[au].mean()\n",
    "    neg_mean = negatives[au].mean()\n",
    "    diff = abs(pos_mean - neg_mean)\n",
    "    diffs[au] = diff\n",
    "\n",
    "# sort the AUs by the difference\n",
    "sorted_diffs = sorted(diffs.items(), key=lambda x: x[1], reverse=True)\n",
    "print(sorted_diffs)\n"
   ]
  },
  {
   "cell_type": "code",
   "execution_count": null,
   "metadata": {},
   "outputs": [],
   "source": [
    "# au_visualization.png\n",
    "# The x axis must correspond to which AU is being plotted, in the sorted order. Each data point must be correctly labeled with the name of the AU.\n",
    "# The y axis must correspond to the absolute difference of means for that AU.\n",
    "# By default, plt.plot() connects all the points as if they belonged to a continuous function. \n",
    "# Given the discrete nature of the x axis, we recommend using individual markers to display each data point\n",
    "import matplotlib.pyplot as plt\n",
    "import numpy as np\n",
    "\n",
    "# get the AUs and the differences\n",
    "aus, diffs = zip(*sorted_diffs)\n",
    "\n",
    "# plot the AUs and the differences\n",
    "plt.figure(figsize=(10, 5))\n",
    "plt.plot(aus, diffs, marker='o', linestyle='None')\n",
    "plt.xlabel('Action Units')\n",
    "plt.ylabel('Absolute Difference of Means')\n",
    "plt.title('Absolute Difference in AU Means (Pos. vs Neg.)')\n",
    "au_visualization_path = os.path.join('..', 'processed', 'au_visualization.png') \n",
    "plt.savefig(au_visualization_path)\n"
   ]
  },
  {
   "cell_type": "code",
   "execution_count": null,
   "metadata": {},
   "outputs": [],
   "source": [
    "print(FEAT_EMOTION_COLUMNS)"
   ]
  }
 ],
 "metadata": {
  "kernelspec": {
   "display_name": "venv",
   "language": "python",
   "name": "python3"
  },
  "language_info": {
   "codemirror_mode": {
    "name": "ipython",
    "version": 3
   },
   "file_extension": ".py",
   "mimetype": "text/x-python",
   "name": "python",
   "nbconvert_exporter": "python",
   "pygments_lexer": "ipython3",
   "version": "3.12.7"
  }
 },
 "nbformat": 4,
 "nbformat_minor": 2
}
